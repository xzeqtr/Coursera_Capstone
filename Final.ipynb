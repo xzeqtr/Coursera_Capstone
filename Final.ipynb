{
 "cells": [
  {
   "cell_type": "markdown",
   "metadata": {},
   "source": [
    "## Introduction\n",
    "\n",
    "This project will be usefull to people who want to migrate from one city (Moscow, Russia) to another (New York, USA). It will allow to understand similarity of two selected boroughs - one in Moscow and one in New York. Similarity will be based on venue clusterization. "
   ]
  },
  {
   "cell_type": "markdown",
   "metadata": {},
   "source": [
    "## Data\n",
    "We will be using Foursquare to get venue data. Foursquare will be used to get data for all neighborhoods in selected borough. We will get some data about boroughs and neighborhoods from the internet and some data will be taken from previous Coursera projects."
   ]
  }
 ],
 "metadata": {
  "kernelspec": {
   "display_name": "Python 3",
   "language": "python",
   "name": "python3"
  },
  "language_info": {
   "codemirror_mode": {
    "name": "ipython",
    "version": 3
   },
   "file_extension": ".py",
   "mimetype": "text/x-python",
   "name": "python",
   "nbconvert_exporter": "python",
   "pygments_lexer": "ipython3",
   "version": "3.6.6"
  }
 },
 "nbformat": 4,
 "nbformat_minor": 2
}
